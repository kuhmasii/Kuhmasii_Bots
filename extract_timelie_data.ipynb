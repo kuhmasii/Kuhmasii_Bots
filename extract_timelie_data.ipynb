{
 "cells": [
  {
   "cell_type": "code",
   "execution_count": 49,
   "id": "b38b4cbf",
   "metadata": {},
   "outputs": [],
   "source": [
    "import pandas as pd \n",
    "import tweepy\n",
    "import bot"
   ]
  },
  {
   "cell_type": "code",
   "execution_count": 50,
   "id": "bab68472",
   "metadata": {},
   "outputs": [],
   "source": [
    "api_key, api_sec  = bot.getAPIkeys()\n",
    "access = bot.getAccess(api_key, api_sec)"
   ]
  },
  {
   "cell_type": "code",
   "execution_count": 51,
   "id": "1e4975a9",
   "metadata": {},
   "outputs": [],
   "source": [
    "timeline = access.home_timeline\n",
    "home = access.user_timeline"
   ]
  },
  {
   "cell_type": "code",
   "execution_count": 52,
   "id": "63d5c225",
   "metadata": {},
   "outputs": [],
   "source": [
    "def extract_timeline(timeline_lists):\n",
    "    columns = set()\n",
    "    allowed_types = [str, int, float]\n",
    "    tweet_data = []\n",
    "\n",
    "    for status in tweepy.Cursor(timeline_lists).items(100):\n",
    "        status_dict = dict(vars(status))\n",
    "        keys = status_dict.keys()\n",
    "        single_tweet_data = {'user':status.user.screen_name,\n",
    "        \"name\":status.author.name}\n",
    "        for k in keys:\n",
    "            try: \n",
    "                v_type = type(status_dict[k])\n",
    "            except:\n",
    "                v_type = None\n",
    "            if v_type:\n",
    "                if v_type in allowed_types:\n",
    "                    single_tweet_data[k] = status_dict[k]\n",
    "                    columns.add(k)\n",
    "        tweet_data.append(single_tweet_data)\n",
    "\n",
    "    header_cols = list(columns)\n",
    "    header_cols.extend(['user', 'name'])\n",
    "    df = pd.DataFrame(tweet_data, columns=header_cols)\n",
    "\n",
    "    return df"
   ]
  },
  {
   "cell_type": "code",
   "execution_count": 53,
   "id": "b55793c8",
   "metadata": {},
   "outputs": [],
   "source": [
    "# Data from my user timeline\n",
    "dataframe = extract_timeline(home)\n",
    "dataframe"
   ]
  },
  {
   "cell_type": "code",
   "execution_count": 54,
   "id": "3e539033",
   "metadata": {},
   "outputs": [],
   "source": [
    "dataframe.to_csv(\"kuhmasii_timeline\")"
   ]
  },
  {
   "cell_type": "code",
   "execution_count": 55,
   "id": "f4ef1d65",
   "metadata": {
    "scrolled": true
   },
   "outputs": [],
   "source": [
    "# Data from my hometimeline\n",
    "dataframe_home = extract_timeline(timeline)\n",
    "dataframe_home"
   ]
  },
  {
   "cell_type": "code",
   "execution_count": 56,
   "id": "439e2d1d",
   "metadata": {},
   "outputs": [],
   "source": [
    "dataframe_home.to_csv(\"home_timeline\")"
   ]
  },
  {
   "cell_type": "code",
   "execution_count": 57,
   "id": "4e0277f4",
   "metadata": {
    "scrolled": true
   },
   "outputs": [],
   "source": [
    "def extract_other_timeline(username):\n",
    "    columns = set()\n",
    "    allowed_types = [str, int, float]\n",
    "    tweet_data = []\n",
    "\n",
    "    for status in tweepy.Cursor(access.user_timeline, screen_name=username).items(100):\n",
    "        status_dict = dict(vars(status))\n",
    "        keys = status_dict.keys()\n",
    "        single_tweet_data = {'user':status.user.screen_name,\n",
    "        \"name\":status.author.name}\n",
    "        for k in keys:\n",
    "            try: \n",
    "                v_type = type(status_dict[k])\n",
    "            except:\n",
    "                v_type = None\n",
    "            if v_type:\n",
    "                if v_type in allowed_types:\n",
    "                    single_tweet_data[k] = status_dict[k]\n",
    "                    columns.add(k)\n",
    "        tweet_data.append(single_tweet_data)\n",
    "\n",
    "    header_cols = list(columns)\n",
    "    header_cols.extend(['user', 'name'])\n",
    "    df = pd.DataFrame(tweet_data, columns=header_cols)\n",
    "\n",
    "    return df\n",
    "\n",
    "user_name = input(\"Username: \").strip(\"@\")"
   ]
  },
  {
   "cell_type": "code",
   "execution_count": 58,
   "id": "49bd225b",
   "metadata": {},
   "outputs": [],
   "source": [
    "# Other people tweet\n",
    "other_user_timeline_df = extract_other_timeline(user_name)\n",
    "other_user_timeline_df\n",
    "other_user_timeline_df.to_csv(\"realpython_timeline\")"
   ]
  }
 ],
 "metadata": {
  "kernelspec": {
   "display_name": "Python 3 (ipykernel)",
   "language": "python",
   "name": "python3"
  },
  "language_info": {
   "codemirror_mode": {
    "name": "ipython",
    "version": 3
   },
   "file_extension": ".py",
   "mimetype": "text/x-python",
   "name": "python",
   "nbconvert_exporter": "python",
   "pygments_lexer": "ipython3",
   "version": "3.10.0"
  }
 },
 "nbformat": 4,
 "nbformat_minor": 5
}
